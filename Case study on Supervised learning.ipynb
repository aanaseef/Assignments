{
 "cells": [
  {
   "cell_type": "code",
   "execution_count": 1,
   "id": "0ef02abc",
   "metadata": {},
   "outputs": [],
   "source": [
    "#importing libraries\n",
    "import numpy as np\n",
    "import pandas as pd\n",
    "import matplotlib.pyplot as plt\n",
    "import seaborn as sns"
   ]
  },
  {
   "cell_type": "markdown",
   "id": "59607ca6",
   "metadata": {},
   "source": [
    "## 1.Read the dataset to the python environment"
   ]
  },
  {
   "cell_type": "code",
   "execution_count": 2,
   "id": "07ef9ff6",
   "metadata": {},
   "outputs": [
    {
     "data": {
      "text/html": [
       "<div>\n",
       "<style scoped>\n",
       "    .dataframe tbody tr th:only-of-type {\n",
       "        vertical-align: middle;\n",
       "    }\n",
       "\n",
       "    .dataframe tbody tr th {\n",
       "        vertical-align: top;\n",
       "    }\n",
       "\n",
       "    .dataframe thead th {\n",
       "        text-align: right;\n",
       "    }\n",
       "</style>\n",
       "<table border=\"1\" class=\"dataframe\">\n",
       "  <thead>\n",
       "    <tr style=\"text-align: right;\">\n",
       "      <th></th>\n",
       "      <th>SL</th>\n",
       "      <th>SW</th>\n",
       "      <th>PL</th>\n",
       "      <th>PW</th>\n",
       "      <th>Classification</th>\n",
       "    </tr>\n",
       "  </thead>\n",
       "  <tbody>\n",
       "    <tr>\n",
       "      <th>0</th>\n",
       "      <td>5.1</td>\n",
       "      <td>3.5</td>\n",
       "      <td>1.4</td>\n",
       "      <td>0.2</td>\n",
       "      <td>Iris-setosa</td>\n",
       "    </tr>\n",
       "    <tr>\n",
       "      <th>1</th>\n",
       "      <td>4.9</td>\n",
       "      <td>3.0</td>\n",
       "      <td>1.4</td>\n",
       "      <td>0.2</td>\n",
       "      <td>Iris-setosa</td>\n",
       "    </tr>\n",
       "    <tr>\n",
       "      <th>2</th>\n",
       "      <td>NaN</td>\n",
       "      <td>3.2</td>\n",
       "      <td>1.3</td>\n",
       "      <td>0.2</td>\n",
       "      <td>Iris-setosa</td>\n",
       "    </tr>\n",
       "    <tr>\n",
       "      <th>3</th>\n",
       "      <td>4.6</td>\n",
       "      <td>3.1</td>\n",
       "      <td>1.5</td>\n",
       "      <td>0.2</td>\n",
       "      <td>Iris-setosa</td>\n",
       "    </tr>\n",
       "    <tr>\n",
       "      <th>4</th>\n",
       "      <td>5.0</td>\n",
       "      <td>3.6</td>\n",
       "      <td>1.4</td>\n",
       "      <td>0.2</td>\n",
       "      <td>Iris-setosa</td>\n",
       "    </tr>\n",
       "    <tr>\n",
       "      <th>...</th>\n",
       "      <td>...</td>\n",
       "      <td>...</td>\n",
       "      <td>...</td>\n",
       "      <td>...</td>\n",
       "      <td>...</td>\n",
       "    </tr>\n",
       "    <tr>\n",
       "      <th>145</th>\n",
       "      <td>6.7</td>\n",
       "      <td>3.0</td>\n",
       "      <td>5.2</td>\n",
       "      <td>2.3</td>\n",
       "      <td>Iris-virginica</td>\n",
       "    </tr>\n",
       "    <tr>\n",
       "      <th>146</th>\n",
       "      <td>6.3</td>\n",
       "      <td>2.5</td>\n",
       "      <td>5.0</td>\n",
       "      <td>1.9</td>\n",
       "      <td>Iris-virginica</td>\n",
       "    </tr>\n",
       "    <tr>\n",
       "      <th>147</th>\n",
       "      <td>6.5</td>\n",
       "      <td>3.0</td>\n",
       "      <td>NaN</td>\n",
       "      <td>2.0</td>\n",
       "      <td>Iris-virginica</td>\n",
       "    </tr>\n",
       "    <tr>\n",
       "      <th>148</th>\n",
       "      <td>6.2</td>\n",
       "      <td>3.4</td>\n",
       "      <td>5.4</td>\n",
       "      <td>2.3</td>\n",
       "      <td>Iris-virginica</td>\n",
       "    </tr>\n",
       "    <tr>\n",
       "      <th>149</th>\n",
       "      <td>5.9</td>\n",
       "      <td>3.0</td>\n",
       "      <td>5.1</td>\n",
       "      <td>1.8</td>\n",
       "      <td>Iris-virginica</td>\n",
       "    </tr>\n",
       "  </tbody>\n",
       "</table>\n",
       "<p>150 rows × 5 columns</p>\n",
       "</div>"
      ],
      "text/plain": [
       "      SL   SW   PL   PW  Classification\n",
       "0    5.1  3.5  1.4  0.2     Iris-setosa\n",
       "1    4.9  3.0  1.4  0.2     Iris-setosa\n",
       "2    NaN  3.2  1.3  0.2     Iris-setosa\n",
       "3    4.6  3.1  1.5  0.2     Iris-setosa\n",
       "4    5.0  3.6  1.4  0.2     Iris-setosa\n",
       "..   ...  ...  ...  ...             ...\n",
       "145  6.7  3.0  5.2  2.3  Iris-virginica\n",
       "146  6.3  2.5  5.0  1.9  Iris-virginica\n",
       "147  6.5  3.0  NaN  2.0  Iris-virginica\n",
       "148  6.2  3.4  5.4  2.3  Iris-virginica\n",
       "149  5.9  3.0  5.1  1.8  Iris-virginica\n",
       "\n",
       "[150 rows x 5 columns]"
      ]
     },
     "execution_count": 2,
     "metadata": {},
     "output_type": "execute_result"
    }
   ],
   "source": [
    "data = pd.read_excel('iris.xls')\n",
    "data"
   ]
  },
  {
   "cell_type": "code",
   "execution_count": 3,
   "id": "c0969cee",
   "metadata": {},
   "outputs": [
    {
     "data": {
      "text/plain": [
       "(150, 5)"
      ]
     },
     "execution_count": 3,
     "metadata": {},
     "output_type": "execute_result"
    }
   ],
   "source": [
    "data.shape"
   ]
  },
  {
   "cell_type": "code",
   "execution_count": 4,
   "id": "a18790ef",
   "metadata": {},
   "outputs": [
    {
     "data": {
      "text/plain": [
       "SL                float64\n",
       "SW                float64\n",
       "PL                float64\n",
       "PW                float64\n",
       "Classification     object\n",
       "dtype: object"
      ]
     },
     "execution_count": 4,
     "metadata": {},
     "output_type": "execute_result"
    }
   ],
   "source": [
    "data.dtypes"
   ]
  },
  {
   "cell_type": "code",
   "execution_count": 5,
   "id": "4524feb6",
   "metadata": {},
   "outputs": [
    {
     "data": {
      "text/plain": [
       "Iris-virginica     50\n",
       "Iris-versicolor    50\n",
       "Iris-setosa        50\n",
       "Name: Classification, dtype: int64"
      ]
     },
     "execution_count": 5,
     "metadata": {},
     "output_type": "execute_result"
    }
   ],
   "source": [
    "data.Classification.value_counts()"
   ]
  },
  {
   "cell_type": "markdown",
   "id": "28350b8d",
   "metadata": {},
   "source": [
    "## 2. Necessary pre-processing steps "
   ]
  },
  {
   "cell_type": "code",
   "execution_count": 6,
   "id": "c98873cc",
   "metadata": {},
   "outputs": [
    {
     "name": "stdout",
     "output_type": "stream",
     "text": [
      "<class 'pandas.core.frame.DataFrame'>\n",
      "RangeIndex: 150 entries, 0 to 149\n",
      "Data columns (total 5 columns):\n",
      " #   Column          Non-Null Count  Dtype  \n",
      "---  ------          --------------  -----  \n",
      " 0   SL              143 non-null    float64\n",
      " 1   SW              144 non-null    float64\n",
      " 2   PL              144 non-null    float64\n",
      " 3   PW              150 non-null    float64\n",
      " 4   Classification  150 non-null    object \n",
      "dtypes: float64(4), object(1)\n",
      "memory usage: 6.0+ KB\n"
     ]
    }
   ],
   "source": [
    "data.info()"
   ]
  },
  {
   "cell_type": "code",
   "execution_count": 7,
   "id": "86d7636a",
   "metadata": {},
   "outputs": [
    {
     "data": {
      "text/html": [
       "<div>\n",
       "<style scoped>\n",
       "    .dataframe tbody tr th:only-of-type {\n",
       "        vertical-align: middle;\n",
       "    }\n",
       "\n",
       "    .dataframe tbody tr th {\n",
       "        vertical-align: top;\n",
       "    }\n",
       "\n",
       "    .dataframe thead th {\n",
       "        text-align: right;\n",
       "    }\n",
       "</style>\n",
       "<table border=\"1\" class=\"dataframe\">\n",
       "  <thead>\n",
       "    <tr style=\"text-align: right;\">\n",
       "      <th></th>\n",
       "      <th>SL</th>\n",
       "      <th>SW</th>\n",
       "      <th>PL</th>\n",
       "      <th>PW</th>\n",
       "    </tr>\n",
       "  </thead>\n",
       "  <tbody>\n",
       "    <tr>\n",
       "      <th>count</th>\n",
       "      <td>143.000000</td>\n",
       "      <td>144.000000</td>\n",
       "      <td>144.000000</td>\n",
       "      <td>150.000000</td>\n",
       "    </tr>\n",
       "    <tr>\n",
       "      <th>mean</th>\n",
       "      <td>5.855944</td>\n",
       "      <td>3.049306</td>\n",
       "      <td>3.756250</td>\n",
       "      <td>1.198667</td>\n",
       "    </tr>\n",
       "    <tr>\n",
       "      <th>std</th>\n",
       "      <td>0.828168</td>\n",
       "      <td>0.430644</td>\n",
       "      <td>1.761306</td>\n",
       "      <td>0.763161</td>\n",
       "    </tr>\n",
       "    <tr>\n",
       "      <th>min</th>\n",
       "      <td>4.300000</td>\n",
       "      <td>2.000000</td>\n",
       "      <td>1.000000</td>\n",
       "      <td>0.100000</td>\n",
       "    </tr>\n",
       "    <tr>\n",
       "      <th>25%</th>\n",
       "      <td>5.100000</td>\n",
       "      <td>2.800000</td>\n",
       "      <td>1.600000</td>\n",
       "      <td>0.300000</td>\n",
       "    </tr>\n",
       "    <tr>\n",
       "      <th>50%</th>\n",
       "      <td>5.800000</td>\n",
       "      <td>3.000000</td>\n",
       "      <td>4.350000</td>\n",
       "      <td>1.300000</td>\n",
       "    </tr>\n",
       "    <tr>\n",
       "      <th>75%</th>\n",
       "      <td>6.400000</td>\n",
       "      <td>3.300000</td>\n",
       "      <td>5.100000</td>\n",
       "      <td>1.800000</td>\n",
       "    </tr>\n",
       "    <tr>\n",
       "      <th>max</th>\n",
       "      <td>7.900000</td>\n",
       "      <td>4.400000</td>\n",
       "      <td>6.900000</td>\n",
       "      <td>2.500000</td>\n",
       "    </tr>\n",
       "  </tbody>\n",
       "</table>\n",
       "</div>"
      ],
      "text/plain": [
       "               SL          SW          PL          PW\n",
       "count  143.000000  144.000000  144.000000  150.000000\n",
       "mean     5.855944    3.049306    3.756250    1.198667\n",
       "std      0.828168    0.430644    1.761306    0.763161\n",
       "min      4.300000    2.000000    1.000000    0.100000\n",
       "25%      5.100000    2.800000    1.600000    0.300000\n",
       "50%      5.800000    3.000000    4.350000    1.300000\n",
       "75%      6.400000    3.300000    5.100000    1.800000\n",
       "max      7.900000    4.400000    6.900000    2.500000"
      ]
     },
     "execution_count": 7,
     "metadata": {},
     "output_type": "execute_result"
    }
   ],
   "source": [
    "data.describe()#statistical description"
   ]
  },
  {
   "cell_type": "code",
   "execution_count": 8,
   "id": "8f0735eb",
   "metadata": {},
   "outputs": [
    {
     "data": {
      "text/plain": [
       "SL                7\n",
       "SW                6\n",
       "PL                6\n",
       "PW                0\n",
       "Classification    0\n",
       "dtype: int64"
      ]
     },
     "execution_count": 8,
     "metadata": {},
     "output_type": "execute_result"
    }
   ],
   "source": [
    "#checking for null-values\n",
    "data.isnull().sum()"
   ]
  },
  {
   "cell_type": "markdown",
   "id": "e661d0d4",
   "metadata": {},
   "source": [
    "**Insights:**\n",
    "- Given dataset has 150 rows and 5 columns, indicating floral properties of  Iris-versicolor,Iris-setosa and Iris-virginica.\n",
    "- Null values are present in the dataset."
   ]
  },
  {
   "cell_type": "code",
   "execution_count": 9,
   "id": "62eb56a3",
   "metadata": {},
   "outputs": [
    {
     "data": {
      "image/png": "[encoded data removed]",
      "text/plain": [
       "<Figure size 576x1008 with 4 Axes>"
      ]
     },
     "metadata": {
      "needs_background": "light"
     },
     "output_type": "display_data"
    }
   ],
   "source": [
    "import warnings;warnings.filterwarnings(\"ignore\")\n",
    "\n",
    "\n",
    "#understanding data distribution using histogram\n",
    "distribution = data[['SL','SW','PL','PW']]\n",
    "distribution.hist(rwidth=0.9,figsize=(8,14))\n",
    "plt.show()"
   ]
  },
  {
   "cell_type": "code",
   "execution_count": 10,
   "id": "14332b96",
   "metadata": {},
   "outputs": [],
   "source": [
    "#filling null-values with median\n",
    "data['SL']=data['SL'].fillna(data['SL'].median())\n",
    "data['SW']=data['SW'].fillna(data['SW'].median())\n",
    "data['PL']=data['PL'].fillna(data['PL'].median())"
   ]
  },
  {
   "cell_type": "code",
   "execution_count": 11,
   "id": "271dfffb",
   "metadata": {},
   "outputs": [
    {
     "data": {
      "text/plain": [
       "SL                0\n",
       "SW                0\n",
       "PL                0\n",
       "PW                0\n",
       "Classification    0\n",
       "dtype: int64"
      ]
     },
     "execution_count": 11,
     "metadata": {},
     "output_type": "execute_result"
    }
   ],
   "source": [
    "#checking for null-values after handling them:\n",
    "data.isnull().sum()"
   ]
  },
  {
   "cell_type": "markdown",
   "id": "71db3be8",
   "metadata": {},
   "source": [
    "> All null-values are managed.\n",
    "> Now we shall check and handle the outliers."
   ]
  },
  {
   "cell_type": "code",
   "execution_count": 12,
   "id": "ba270108",
   "metadata": {},
   "outputs": [
    {
     "data": {
      "text/plain": [
       "<AxesSubplot:xlabel='SL'>"
      ]
     },
     "execution_count": 12,
     "metadata": {},
     "output_type": "execute_result"
    },
    {
     "data": {
      "image/png": "[encoded data removed]",
      "text/plain": [
       "<Figure size 432x288 with 1 Axes>"
      ]
     },
     "metadata": {
      "needs_background": "light"
     },
     "output_type": "display_data"
    }
   ],
   "source": [
    "#outlier in SL\n",
    "sns.boxplot(data['SL'])"
   ]
  },
  {
   "cell_type": "code",
   "execution_count": 13,
   "id": "20789dce",
   "metadata": {},
   "outputs": [
    {
     "data": {
      "text/plain": [
       "<AxesSubplot:xlabel='SW'>"
      ]
     },
     "execution_count": 13,
     "metadata": {},
     "output_type": "execute_result"
    },
    {
     "data": {
      "image/png": "[encoded data removed]",
      "text/plain": [
       "<Figure size 432x288 with 1 Axes>"
      ]
     },
     "metadata": {
      "needs_background": "light"
     },
     "output_type": "display_data"
    }
   ],
   "source": [
    "#outlier in SW\n",
    "sns.boxplot(data['SW'])"
   ]
  },
  {
   "cell_type": "code",
   "execution_count": 14,
   "id": "2de5c06e",
   "metadata": {},
   "outputs": [
    {
     "data": {
      "text/plain": [
       "<AxesSubplot:xlabel='PL'>"
      ]
     },
     "execution_count": 14,
     "metadata": {},
     "output_type": "execute_result"
    },
    {
     "data": {
      "image/png": "[encoded data removed]",
      "text/plain": [
       "<Figure size 432x288 with 1 Axes>"
      ]
     },
     "metadata": {
      "needs_background": "light"
     },
     "output_type": "display_data"
    }
   ],
   "source": [
    "#outlier in PL\n",
    "sns.boxplot(data['PL'])"
   ]
  },
  {
   "cell_type": "code",
   "execution_count": 15,
   "id": "165ad0a0",
   "metadata": {},
   "outputs": [
    {
     "data": {
      "text/plain": [
       "<AxesSubplot:xlabel='PW'>"
      ]
     },
     "execution_count": 15,
     "metadata": {},
     "output_type": "execute_result"
    },
    {
     "data": {
      "image/png": "[encoded data removed]",
      "text/plain": [
       "<Figure size 432x288 with 1 Axes>"
      ]
     },
     "metadata": {
      "needs_background": "light"
     },
     "output_type": "display_data"
    }
   ],
   "source": [
    "#outlier in PW\n",
    "sns.boxplot(data['PW'])"
   ]
  },
  {
   "cell_type": "markdown",
   "id": "a8722d1a",
   "metadata": {},
   "source": [
    "**> Only SW column has outliers present.**"
   ]
  },
  {
   "cell_type": "code",
   "execution_count": 16,
   "id": "fe9434a1",
   "metadata": {},
   "outputs": [
    {
     "name": "stdout",
     "output_type": "stream",
     "text": [
      "IQR is 0.4500000000000002\n",
      "lower limit is 2.1249999999999996\n",
      "upper limit is 3.9250000000000003\n"
     ]
    }
   ],
   "source": [
    "#Finding IQR(interquartile range) inorder to handle outliers in SW:\n",
    "df=data\n",
    "\n",
    "Q1 = np.percentile(df['SW'], 25, interpolation = \"midpoint\")\n",
    "Q2 = np.percentile(df['SW'], 50, interpolation = \"midpoint\")\n",
    "Q3 = np.percentile(df['SW'], 75, interpolation = \"midpoint\")\n",
    "IQR = Q3-Q1 ; print(\"IQR is\",IQR)\n",
    "low_limit = Q1-1.5*IQR ; print(\"lower limit is\",low_limit)\n",
    "upper_limit = Q3+1.5*IQR ; print(\"upper limit is\",upper_limit)"
   ]
  },
  {
   "cell_type": "code",
   "execution_count": 17,
   "id": "a2a0fabd",
   "metadata": {},
   "outputs": [],
   "source": [
    "#finding outliers\n",
    "outliers = []\n",
    "for x in df['SW']:\n",
    "    if ( x < low_limit ) or ( x > upper_limit ):\n",
    "        outliers.append(x)"
   ]
  },
  {
   "cell_type": "code",
   "execution_count": 18,
   "id": "5b735b24",
   "metadata": {},
   "outputs": [
    {
     "data": {
      "text/plain": [
       "[4.0, 4.4, 4.1, 4.2, 2.0]"
      ]
     },
     "execution_count": 18,
     "metadata": {},
     "output_type": "execute_result"
    }
   ],
   "source": [
    "outliers"
   ]
  },
  {
   "cell_type": "code",
   "execution_count": 19,
   "id": "fdf7ea33",
   "metadata": {},
   "outputs": [
    {
     "data": {
      "text/plain": [
       "Int64Index([60], dtype='int64')"
      ]
     },
     "execution_count": 19,
     "metadata": {},
     "output_type": "execute_result"
    }
   ],
   "source": [
    "index_drop1 = df['SW']>upper_limit;index_drop2 = df['SW']<low_limit\n",
    "df.loc[index_drop2].index"
   ]
  },
  {
   "cell_type": "code",
   "execution_count": 20,
   "id": "69a38fd9",
   "metadata": {},
   "outputs": [
    {
     "data": {
      "text/plain": [
       "Int64Index([14, 15, 32, 33], dtype='int64')"
      ]
     },
     "execution_count": 20,
     "metadata": {},
     "output_type": "execute_result"
    }
   ],
   "source": [
    "df.loc[index_drop1].index"
   ]
  },
  {
   "cell_type": "code",
   "execution_count": 21,
   "id": "75b608be",
   "metadata": {},
   "outputs": [],
   "source": [
    "df.drop([14, 15, 32, 33,60],inplace=True)\n",
    "#outliers are dropped"
   ]
  },
  {
   "cell_type": "code",
   "execution_count": 22,
   "id": "616bb322",
   "metadata": {},
   "outputs": [
    {
     "data": {
      "text/plain": [
       "<AxesSubplot:xlabel='SW'>"
      ]
     },
     "execution_count": 22,
     "metadata": {},
     "output_type": "execute_result"
    },
    {
     "data": {
      "image/png": "[encoded data removed]",
      "text/plain": [
       "<Figure size 432x288 with 1 Axes>"
      ]
     },
     "metadata": {
      "needs_background": "light"
     },
     "output_type": "display_data"
    }
   ],
   "source": [
    "#SW after dropping:\n",
    "#outlier in SW\n",
    "sns.boxplot(df['SW'])"
   ]
  },
  {
   "cell_type": "markdown",
   "id": "f964b96b",
   "metadata": {},
   "source": [
    "## 3. Find out which classification model gives the best result to predict iris species.(also do random forest algorithm) "
   ]
  },
  {
   "cell_type": "code",
   "execution_count": 23,
   "id": "423f746e",
   "metadata": {},
   "outputs": [],
   "source": [
    "#logistic regression\n",
    "x = df.drop('Classification',axis=1)\n",
    "y = df['Classification']\n",
    "\n",
    "\n",
    "#Spliting of data.\n",
    "from sklearn.model_selection import train_test_split\n",
    "x_train,x_test,y_train,y_test = train_test_split(x,y,random_state=42,test_size=0.25)\n",
    "\n",
    "from sklearn.linear_model import LogisticRegression\n",
    "lr = LogisticRegression()\n",
    "lr.fit(x_train,y_train)\n",
    "y_predict = lr.predict(x_test)"
   ]
  },
  {
   "cell_type": "code",
   "execution_count": 24,
   "id": "5e1adc11",
   "metadata": {},
   "outputs": [
    {
     "name": "stdout",
     "output_type": "stream",
     "text": [
      "74     Iris-versicolor\n",
      "145     Iris-virginica\n",
      "29         Iris-setosa\n",
      "21         Iris-setosa\n",
      "46         Iris-setosa\n",
      "122     Iris-virginica\n",
      "131     Iris-virginica\n",
      "113     Iris-virginica\n",
      "89     Iris-versicolor\n",
      "20         Iris-setosa\n",
      "12         Iris-setosa\n",
      "59     Iris-versicolor\n",
      "133     Iris-virginica\n",
      "83     Iris-versicolor\n",
      "78     Iris-versicolor\n",
      "40         Iris-setosa\n",
      "117     Iris-virginica\n",
      "138     Iris-virginica\n",
      "105     Iris-virginica\n",
      "106     Iris-virginica\n",
      "99     Iris-versicolor\n",
      "141     Iris-virginica\n",
      "11         Iris-setosa\n",
      "71     Iris-versicolor\n",
      "35         Iris-setosa\n",
      "49         Iris-setosa\n",
      "55     Iris-versicolor\n",
      "81     Iris-versicolor\n",
      "116     Iris-virginica\n",
      "9          Iris-setosa\n",
      "4          Iris-setosa\n",
      "28         Iris-setosa\n",
      "125     Iris-virginica\n",
      "130     Iris-virginica\n",
      "18         Iris-setosa\n",
      "10         Iris-setosa\n",
      "123     Iris-virginica\n",
      "Name: Classification, dtype: object\n",
      "['Iris-versicolor' 'Iris-virginica' 'Iris-setosa' 'Iris-setosa'\n",
      " 'Iris-setosa' 'Iris-virginica' 'Iris-virginica' 'Iris-virginica'\n",
      " 'Iris-versicolor' 'Iris-setosa' 'Iris-setosa' 'Iris-versicolor'\n",
      " 'Iris-versicolor' 'Iris-virginica' 'Iris-versicolor' 'Iris-setosa'\n",
      " 'Iris-virginica' 'Iris-virginica' 'Iris-virginica' 'Iris-versicolor'\n",
      " 'Iris-versicolor' 'Iris-virginica' 'Iris-setosa' 'Iris-versicolor'\n",
      " 'Iris-setosa' 'Iris-setosa' 'Iris-versicolor' 'Iris-versicolor'\n",
      " 'Iris-virginica' 'Iris-setosa' 'Iris-setosa' 'Iris-versicolor'\n",
      " 'Iris-virginica' 'Iris-virginica' 'Iris-setosa' 'Iris-setosa'\n",
      " 'Iris-virginica']\n"
     ]
    }
   ],
   "source": [
    "print(y_test[:])\n",
    "print(y_predict[:])"
   ]
  },
  {
   "cell_type": "code",
   "execution_count": 31,
   "id": "e5e8b929",
   "metadata": {},
   "outputs": [
    {
     "name": "stdout",
     "output_type": "stream",
     "text": [
      "Training accuracy is : 0.8918918918918919\n",
      "precision is : 0.8834498834498835\n",
      "recall is : 0.8915343915343915\n",
      "F1 score is : 0.8839506172839506\n"
     ]
    }
   ],
   "source": [
    "from sklearn.metrics import confusion_matrix,accuracy_score,precision_score,recall_score,f1_score\n",
    "\n",
    "print(\"Training accuracy is :\",accuracy_score(y_test,y_predict))\n",
    "print(\"precision is :\",precision_score(y_test,y_predict,average='macro'))\n",
    "print(\"recall is :\",recall_score(y_test,y_predict,average='macro'))\n",
    "print(\"F1 score is :\",f1_score(y_test,y_predict,average='macro'))"
   ]
  },
  {
   "cell_type": "code",
   "execution_count": 32,
   "id": "0bff03ba",
   "metadata": {},
   "outputs": [],
   "source": [
    "#KNN model\n",
    "from sklearn.neighbors import KNeighborsClassifier"
   ]
  },
  {
   "cell_type": "code",
   "execution_count": 33,
   "id": "46645a12",
   "metadata": {},
   "outputs": [],
   "source": [
    "acc_val=[]\n",
    "neighbors=np.arange(3,15)\n",
    "for k in neighbors:\n",
    "    classifier=KNeighborsClassifier(n_neighbors=k,metric='minkowski')\n",
    "    classifier.fit(x_train,y_train)\n",
    "    y_pred=classifier.predict(x_test)\n",
    "    acc=accuracy_score(y_test,y_pred)\n",
    "    acc_val.append(acc)"
   ]
  },
  {
   "cell_type": "code",
   "execution_count": 35,
   "id": "f89c15ce",
   "metadata": {},
   "outputs": [
    {
     "name": "stdout",
     "output_type": "stream",
     "text": [
      "[0.918918918918919, 0.8918918918918919, 0.918918918918919, 0.8648648648648649, 0.8918918918918919, 0.8378378378378378, 0.918918918918919, 0.8918918918918919, 0.918918918918919, 0.8648648648648649, 0.8648648648648649, 0.8648648648648649]\n"
     ]
    },
    {
     "data": {
      "text/plain": [
       "Text(0, 0.5, 'accuracy')"
      ]
     },
     "execution_count": 35,
     "metadata": {},
     "output_type": "execute_result"
    },
    {
     "data": {
      "image/png": "[encoded data removed]",
      "text/plain": [
       "<Figure size 432x288 with 1 Axes>"
      ]
     },
     "metadata": {
      "needs_background": "light"
     },
     "output_type": "display_data"
    }
   ],
   "source": [
    "print(acc_val)\n",
    "plt.plot(neighbors,acc_val)\n",
    "plt.xlabel(\"k value\")\n",
    "plt.ylabel(\"accuracy\")"
   ]
  },
  {
   "cell_type": "code",
   "execution_count": 37,
   "id": "0077c818",
   "metadata": {},
   "outputs": [
    {
     "name": "stdout",
     "output_type": "stream",
     "text": [
      "Training Accuracy is :  0.9814814814814815\n",
      "The accuracy score of KNN model is :  0.8918918918918919\n",
      "The F1 score of KNN model is :  0.8918918918918919\n"
     ]
    }
   ],
   "source": [
    "\n",
    "classifer = KNeighborsClassifier(n_neighbors=4,metric = \"minkowski\") \n",
    "classifer.fit(x_train,y_train)\n",
    "predict1 = classifer.predict(x_test)\n",
    "\n",
    "y_train_pred1 = classifer.predict(x_train)\n",
    "\n",
    "print(\"Training Accuracy is : \", accuracy_score(y_train, y_train_pred1))\n",
    "print(\"The accuracy score of KNN model is : \", accuracy_score(y_test,predict1))\n",
    "print(\"The F1 score of KNN model is : \", f1_score(y_test,predict1,average=\"micro\"))"
   ]
  },
  {
   "cell_type": "code",
   "execution_count": 39,
   "id": "db63c3ec",
   "metadata": {},
   "outputs": [],
   "source": [
    "#Random Forest\n",
    "from sklearn.ensemble import RandomForestClassifier\n",
    "rm=RandomForestClassifier()\n",
    "rm.fit(x_train,y_train)\n",
    "y_prd=rm.predict(x_test)"
   ]
  },
  {
   "cell_type": "code",
   "execution_count": 40,
   "id": "3ffa6c67",
   "metadata": {},
   "outputs": [
    {
     "data": {
      "text/plain": [
       "array(['Iris-versicolor', 'Iris-virginica', 'Iris-setosa', 'Iris-setosa',\n",
       "       'Iris-setosa'], dtype=object)"
      ]
     },
     "execution_count": 40,
     "metadata": {},
     "output_type": "execute_result"
    }
   ],
   "source": [
    "y_prd[0:5]"
   ]
  },
  {
   "cell_type": "code",
   "execution_count": 41,
   "id": "52667abc",
   "metadata": {},
   "outputs": [
    {
     "data": {
      "text/plain": [
       "74     Iris-versicolor\n",
       "145     Iris-virginica\n",
       "29         Iris-setosa\n",
       "21         Iris-setosa\n",
       "46         Iris-setosa\n",
       "Name: Classification, dtype: object"
      ]
     },
     "execution_count": 41,
     "metadata": {},
     "output_type": "execute_result"
    }
   ],
   "source": [
    "y_test[0:5]"
   ]
  },
  {
   "cell_type": "code",
   "execution_count": 43,
   "id": "524c8285",
   "metadata": {},
   "outputs": [
    {
     "name": "stdout",
     "output_type": "stream",
     "text": [
      "Training accuracy is : 0.9459459459459459\n",
      "precision is : 0.9391534391534391\n",
      "recall is : 0.9391534391534391\n",
      "F1 score is : 0.9391534391534391\n"
     ]
    }
   ],
   "source": [
    "print(\"Training accuracy is :\",accuracy_score(y_test,y_pred))\n",
    "print(\"precision is :\",precision_score(y_test,y_pred,average='macro'))\n",
    "print(\"recall is :\",recall_score(y_test,y_pred,average='macro'))\n",
    "print(\"F1 score is :\",f1_score(y_test,y_pred,average='macro'))"
   ]
  },
  {
   "cell_type": "code",
   "execution_count": 44,
   "id": "770e3db2",
   "metadata": {},
   "outputs": [],
   "source": [
    "#decision tree model\n",
    "from sklearn.tree import DecisionTreeClassifier"
   ]
  },
  {
   "cell_type": "code",
   "execution_count": 45,
   "id": "8e5874d1",
   "metadata": {},
   "outputs": [
    {
     "name": "stdout",
     "output_type": "stream",
     "text": [
      "Training Accuracy is :  1.0\n",
      "The accuracy score of Decision tree model is :  0.918918918918919\n",
      "The f1 score of Decision tree model is :  0.918918918918919\n"
     ]
    }
   ],
   "source": [
    "d_tree = DecisionTreeClassifier()\n",
    "d_tree.fit(x_train,y_train)\n",
    "predict = d_tree.predict(x_test)\n",
    "\n",
    "y_train_pred3 = d_tree.predict(x_train)\n",
    "\n",
    "print(\"Training Accuracy is : \", accuracy_score(y_train, y_train_pred3))\n",
    "print(\"The accuracy score of Decision tree model is : \", accuracy_score(y_test,predict))\n",
    "print(\"The f1 score of Decision tree model is : \", f1_score(y_test,predict,average=\"micro\"))"
   ]
  },
  {
   "cell_type": "code",
   "execution_count": 47,
   "id": "e338b275",
   "metadata": {},
   "outputs": [],
   "source": [
    "#gradient booster model\n",
    "from sklearn.ensemble import GradientBoostingClassifier"
   ]
  },
  {
   "cell_type": "code",
   "execution_count": 48,
   "id": "8c345147",
   "metadata": {},
   "outputs": [
    {
     "name": "stdout",
     "output_type": "stream",
     "text": [
      "Training Accuracy is :  1.0\n",
      "The accuracy score for GradientBoostingClassifier Model is :  0.918918918918919\n",
      "The f1 score is :  0.918918918918919\n"
     ]
    }
   ],
   "source": [
    "gbc = GradientBoostingClassifier()\n",
    "gbc.fit(x_train,y_train)\n",
    "predict = gbc.predict(x_test)\n",
    "\n",
    "y_train_pred = gbc.predict(x_train)\n",
    "\n",
    "print(\"Training Accuracy is : \", accuracy_score(y_train, y_train_pred))\n",
    "print(\"The accuracy score for GradientBoostingClassifier Model is : \", accuracy_score(y_test,predict))\n",
    "print(\"The f1 score is : \", f1_score(y_test,predict,average=\"micro\"))"
   ]
  },
  {
   "cell_type": "markdown",
   "id": "7a7f557d",
   "metadata": {},
   "source": [
    "**Insights:**\n",
    "    >  All models above are really performing well\n",
    "    >  But, as seen above Tree based models perform relatively well because they aren't much affected by outliers, as          compared to regression-based models.\n",
    "    >  From above, the best models we can choose are **Random forest model and Gradient booster model.**"
   ]
  },
  {
   "cell_type": "code",
   "execution_count": null,
   "id": "077ac316",
   "metadata": {},
   "outputs": [],
   "source": []
  }
 ],
 "metadata": {
  "kernelspec": {
   "display_name": "Python 3",
   "language": "python",
   "name": "python3"
  },
  "language_info": {
   "codemirror_mode": {
    "name": "ipython",
    "version": 3
   },
   "file_extension": ".py",
   "mimetype": "text/x-python",
   "name": "python",
   "nbconvert_exporter": "python",
   "pygments_lexer": "ipython3",
   "version": "3.8.8"
  }
 },
 "nbformat": 4,
 "nbformat_minor": 5
}
